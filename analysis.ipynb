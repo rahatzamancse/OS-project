{
 "cells": [
  {
   "cell_type": "code",
   "execution_count": 1,
   "id": "55e9645c-3fde-45b3-a5d5-6ee59a520ba1",
   "metadata": {},
   "outputs": [],
   "source": [
    "import gzip\n",
    "import os\n",
    "import json\n",
    "import pandas as pd\n",
    "from tqdm import tqdm\n",
    "\n",
    "import plotly.express as px\n",
    "\n",
    "import numpy as np\n",
    "from sklearn import preprocessing\n",
    "\n",
    "from sklearn.multioutput import MultiOutputRegressor\n",
    "from sklearn.linear_model import Ridge\n",
    "\n",
    "from sklearn.metrics import accuracy_score\n",
    "\n",
    "import shutil\n",
    "\n",
    "from processDataset import *\n",
    "from datetime import datetime\n",
    "\n",
    "from sklearn.model_selection import train_test_split"
   ]
  },
  {
   "cell_type": "code",
   "execution_count": 2,
   "id": "cc93d9e7-c77a-4c1d-bb94-dc03689a23c6",
   "metadata": {
    "tags": []
   },
   "outputs": [],
   "source": [
    "DATA_DIR = '../carat-data-top1k-users-2014-to-2018-08-25/top1k-salted-data-to-share-2014-01-01-to-2018-08-25.json-rdd/'\n",
    "output_dir = \"output\"\n",
    "\n",
    "if False:    \n",
    "    if os.path.exists(output_dir):\n",
    "        shutil.rmtree(output_dir)\n",
    "\n",
    "    os.mkdir(output_dir)\n",
    "    preprocess_dataset(DATA_DIR, output_dir)"
   ]
  },
  {
   "cell_type": "code",
   "execution_count": 3,
   "id": "1e3aa741-ca7f-495e-b468-47c595c03ae8",
   "metadata": {},
   "outputs": [
    {
     "name": "stderr",
     "output_type": "stream",
     "text": [
      "100%|██████████| 1000/1000 [01:36<00:00, 10.35it/s]"
     ]
    },
    {
     "name": "stdout",
     "output_type": "stream",
     "text": [
      "Total users : 1000\n"
     ]
    },
    {
     "name": "stderr",
     "output_type": "stream",
     "text": [
      "\n"
     ]
    }
   ],
   "source": [
    "user_summary = get_user_summary(output_dir)"
   ]
  },
  {
   "cell_type": "code",
   "execution_count": 5,
   "id": "1d734c7c-7875-44f2-8343-436634012a87",
   "metadata": {},
   "outputs": [
    {
     "data": {
      "application/vnd.plotly.v1+json": {
       "config": {
        "plotlyServerURL": "https://plot.ly"
       },
       "data": [
        {
         "alignmentgroup": "True",
         "bingroup": "x",
         "hovertemplate": "x=%{x}<br>count=%{y}<extra></extra>",
         "legendgroup": "",
         "marker": {
          "color": "#636efa",
          "pattern": {
           "shape": ""
          }
         },
         "name": "",
         "offsetgroup": "",
         "orientation": "v",
         "showlegend": false,
         "type": "histogram",
         "x": [
          79,
          167,
          44,
          35,
          69,
          124,
          61,
          33,
          103,
          182,
          114,
          66,
          51,
          4,
          120,
          58,
          65,
          76,
          27,
          53,
          211,
          36,
          51,
          46,
          67,
          83,
          113,
          36,
          109,
          160,
          87,
          95,
          53,
          123,
          60,
          104,
          5,
          94,
          220,
          129,
          130,
          94,
          149,
          38,
          117,
          72,
          39,
          55,
          29,
          54,
          142,
          53,
          100,
          54,
          92,
          98,
          166,
          134,
          96,
          58,
          34,
          74,
          129,
          41,
          154,
          4,
          41,
          75,
          61,
          149,
          80,
          60,
          86,
          90,
          117,
          20,
          51,
          57,
          97,
          124,
          74,
          208,
          121,
          25,
          46,
          56,
          112,
          87,
          134,
          43,
          140,
          130,
          104,
          199,
          87,
          103,
          78,
          95,
          49,
          93,
          2,
          109,
          140,
          34,
          92,
          52,
          113,
          35,
          140,
          141,
          141,
          43,
          39,
          54,
          192,
          107,
          122,
          133,
          36,
          144,
          13,
          168,
          97,
          49,
          44,
          52,
          123,
          128,
          32,
          46,
          156,
          70,
          67,
          41,
          32,
          51,
          156,
          40,
          7,
          89,
          54,
          234,
          60,
          123,
          61,
          73,
          78,
          147,
          184,
          115,
          92,
          93,
          177,
          127,
          95,
          40,
          100,
          146,
          54,
          42,
          84,
          53,
          77,
          3,
          95,
          50,
          73,
          109,
          87,
          79,
          77,
          74,
          91,
          180,
          17,
          65,
          63,
          33,
          114,
          96,
          63,
          135,
          57,
          146,
          138,
          100,
          73,
          159,
          55,
          46,
          92,
          38,
          160,
          164,
          77,
          79,
          39,
          66,
          69,
          5,
          90,
          112,
          70,
          49,
          188,
          122,
          133,
          3,
          105,
          62,
          110,
          59,
          82,
          51,
          71,
          102,
          116,
          74,
          71,
          79,
          105,
          235,
          86,
          131,
          59,
          5,
          42,
          8,
          127,
          8,
          99,
          77,
          111,
          28,
          67,
          61,
          55,
          146,
          92,
          136,
          87,
          94,
          156,
          103,
          142,
          90,
          113,
          68,
          143,
          95,
          28,
          116,
          6,
          129,
          114,
          189,
          153,
          84,
          98,
          41,
          155,
          75,
          45,
          115,
          326,
          125,
          25,
          131,
          89,
          69,
          73,
          82,
          105,
          60,
          160,
          82,
          86,
          85,
          97,
          100,
          47,
          8,
          95,
          102,
          73,
          64,
          103,
          72,
          93,
          80,
          85,
          138,
          66,
          31,
          36,
          108,
          76,
          30,
          57,
          1,
          66,
          59,
          198,
          100,
          162,
          70,
          182,
          75,
          147,
          105,
          85,
          161,
          68,
          111,
          57,
          140,
          176,
          133,
          135,
          163,
          99,
          76,
          149,
          77,
          82,
          69,
          135,
          60,
          85,
          85,
          55,
          28,
          87,
          165,
          23,
          95,
          71,
          16,
          110,
          51,
          3,
          218,
          96,
          103,
          55,
          93,
          141,
          60,
          61,
          143,
          13,
          70,
          104,
          59,
          51,
          1,
          112,
          70,
          16,
          78,
          79,
          126,
          104,
          166,
          114,
          64,
          63,
          86,
          66,
          36,
          88,
          89,
          79,
          114,
          72,
          37,
          204,
          198,
          132,
          82,
          144,
          29,
          38,
          89,
          121,
          39,
          144,
          93,
          77,
          75,
          160,
          115,
          44,
          98,
          109,
          57,
          75,
          150,
          83,
          96,
          123,
          75,
          49,
          109,
          37,
          105,
          91,
          145,
          32,
          158,
          50,
          143,
          87,
          64,
          67,
          49,
          23,
          79,
          126,
          86,
          26,
          73,
          118,
          33,
          97,
          6,
          101,
          76,
          70,
          106,
          67,
          82,
          82,
          85,
          8,
          97,
          145,
          86,
          129,
          163,
          88,
          44,
          49,
          97,
          163,
          121,
          161,
          92,
          76,
          43,
          105,
          38,
          70,
          89,
          73,
          47,
          98,
          141,
          50,
          153,
          104,
          64,
          162,
          77,
          47,
          63,
          173,
          28,
          50,
          95,
          185,
          107,
          58,
          48,
          42,
          131,
          55,
          61,
          92,
          106,
          130,
          107,
          126,
          53,
          41,
          85,
          280,
          79,
          56,
          69,
          45,
          23,
          59,
          21,
          129,
          79,
          78,
          32,
          41,
          155,
          65,
          65,
          70,
          75,
          36,
          141,
          162,
          110,
          106,
          161,
          91,
          59,
          128,
          62,
          71,
          126,
          72,
          149,
          6,
          66,
          122,
          66,
          137,
          118,
          168,
          66,
          70,
          152,
          130,
          65,
          109,
          85,
          111,
          160,
          87,
          116,
          46,
          49,
          71,
          39,
          94,
          59,
          87,
          54,
          91,
          95,
          139,
          87,
          99,
          3,
          124,
          50,
          25,
          106,
          74,
          36,
          104,
          53,
          127,
          57,
          146,
          46,
          88,
          47,
          56,
          76,
          168,
          180,
          56,
          45,
          59,
          91,
          116,
          116,
          23,
          60,
          60,
          8,
          113,
          43,
          62,
          95,
          113,
          163,
          98,
          4,
          76,
          91,
          72,
          141,
          66,
          52,
          75,
          51,
          131,
          8,
          59,
          71,
          109,
          37,
          23,
          65,
          52,
          144,
          50,
          92,
          3,
          94,
          80,
          100,
          112,
          77,
          127,
          57,
          61,
          139,
          87,
          23,
          96,
          73,
          190,
          25,
          42,
          103,
          141,
          43,
          129,
          67,
          63,
          63,
          44,
          104,
          87,
          65,
          31,
          99,
          172,
          134,
          101,
          120,
          107,
          137,
          31,
          128,
          60,
          50,
          84,
          70,
          107,
          231,
          86,
          100,
          73,
          86,
          161,
          131,
          117,
          8,
          120,
          85,
          125,
          5,
          58,
          53,
          116,
          47,
          18,
          5,
          95,
          14,
          110,
          8,
          132,
          51,
          60,
          170,
          140,
          9,
          63,
          40,
          46,
          50,
          104,
          65,
          75,
          55,
          10,
          19,
          78,
          121,
          84,
          57,
          164,
          9,
          42,
          81,
          142,
          87,
          88,
          67,
          56,
          43,
          68,
          54,
          93,
          118,
          113,
          60,
          91,
          97,
          172,
          81,
          114,
          67,
          77,
          117,
          49,
          6,
          113,
          101,
          86,
          39,
          92,
          31,
          114,
          71,
          41,
          125,
          168,
          57,
          110,
          139,
          170,
          34,
          32,
          114,
          72,
          67,
          147,
          53,
          88,
          53,
          27,
          35,
          121,
          62,
          108,
          64,
          19,
          96,
          45,
          213,
          90,
          56,
          67,
          87,
          135,
          21,
          88,
          38,
          129,
          13,
          32,
          5,
          147,
          191,
          98,
          87,
          152,
          82,
          102,
          36,
          36,
          60,
          41,
          67,
          53,
          77,
          61,
          73,
          58,
          36,
          63,
          109,
          50,
          79,
          7,
          126,
          122,
          144,
          121,
          150,
          1,
          81,
          3,
          65,
          46,
          105,
          48,
          58,
          108,
          109,
          84,
          142,
          78,
          72,
          71,
          173,
          143,
          6,
          75,
          156,
          72,
          137,
          112,
          132,
          100,
          79,
          47,
          69,
          131,
          141,
          97,
          116,
          120,
          57,
          59,
          68,
          57,
          74,
          152,
          24,
          8,
          165,
          163,
          59,
          40,
          64,
          94,
          89,
          52,
          56,
          86,
          103,
          93,
          140,
          138,
          59,
          84,
          156,
          68,
          95,
          80,
          47,
          67,
          100,
          73,
          123,
          68,
          50,
          85,
          110,
          128,
          38,
          36,
          97,
          71,
          119,
          137,
          129,
          67,
          91,
          108,
          59,
          49,
          99,
          131,
          167,
          52,
          121,
          2,
          91,
          95,
          73,
          63,
          145,
          58,
          78,
          70,
          93,
          83,
          58,
          32,
          111,
          92,
          122,
          57,
          159,
          132,
          66,
          23,
          74,
          122,
          123,
          57,
          61,
          81,
          130,
          115,
          131,
          133,
          61,
          79,
          65,
          32,
          56,
          48,
          80,
          117,
          140,
          153,
          18,
          43,
          122,
          97,
          44,
          51,
          24,
          50,
          46,
          88,
          4,
          51,
          31,
          55,
          87,
          33,
          62,
          64,
          66,
          76,
          58,
          48,
          88,
          127,
          81,
          86,
          96,
          85,
          68,
          117,
          30,
          107,
          166,
          105,
          70,
          53,
          62,
          53,
          74,
          127,
          118,
          112,
          126,
          56,
          133,
          46,
          141,
          79,
          6,
          148,
          88,
          95,
          40,
          149,
          36,
          65,
          2,
          64,
          54,
          101,
          108,
          101,
          37,
          167,
          1,
          84,
          2,
          46,
          96,
          52,
          176,
          92,
          18,
          166,
          141,
          38,
          196,
          81,
          93
         ],
         "xaxis": "x",
         "yaxis": "y"
        }
       ],
       "layout": {
        "barmode": "relative",
        "legend": {
         "tracegroupgap": 0
        },
        "template": {
         "data": {
          "bar": [
           {
            "error_x": {
             "color": "#2a3f5f"
            },
            "error_y": {
             "color": "#2a3f5f"
            },
            "marker": {
             "line": {
              "color": "#E5ECF6",
              "width": 0.5
             },
             "pattern": {
              "fillmode": "overlay",
              "size": 10,
              "solidity": 0.2
             }
            },
            "type": "bar"
           }
          ],
          "barpolar": [
           {
            "marker": {
             "line": {
              "color": "#E5ECF6",
              "width": 0.5
             },
             "pattern": {
              "fillmode": "overlay",
              "size": 10,
              "solidity": 0.2
             }
            },
            "type": "barpolar"
           }
          ],
          "carpet": [
           {
            "aaxis": {
             "endlinecolor": "#2a3f5f",
             "gridcolor": "white",
             "linecolor": "white",
             "minorgridcolor": "white",
             "startlinecolor": "#2a3f5f"
            },
            "baxis": {
             "endlinecolor": "#2a3f5f",
             "gridcolor": "white",
             "linecolor": "white",
             "minorgridcolor": "white",
             "startlinecolor": "#2a3f5f"
            },
            "type": "carpet"
           }
          ],
          "choropleth": [
           {
            "colorbar": {
             "outlinewidth": 0,
             "ticks": ""
            },
            "type": "choropleth"
           }
          ],
          "contour": [
           {
            "colorbar": {
             "outlinewidth": 0,
             "ticks": ""
            },
            "colorscale": [
             [
              0,
              "#0d0887"
             ],
             [
              0.1111111111111111,
              "#46039f"
             ],
             [
              0.2222222222222222,
              "#7201a8"
             ],
             [
              0.3333333333333333,
              "#9c179e"
             ],
             [
              0.4444444444444444,
              "#bd3786"
             ],
             [
              0.5555555555555556,
              "#d8576b"
             ],
             [
              0.6666666666666666,
              "#ed7953"
             ],
             [
              0.7777777777777778,
              "#fb9f3a"
             ],
             [
              0.8888888888888888,
              "#fdca26"
             ],
             [
              1,
              "#f0f921"
             ]
            ],
            "type": "contour"
           }
          ],
          "contourcarpet": [
           {
            "colorbar": {
             "outlinewidth": 0,
             "ticks": ""
            },
            "type": "contourcarpet"
           }
          ],
          "heatmap": [
           {
            "colorbar": {
             "outlinewidth": 0,
             "ticks": ""
            },
            "colorscale": [
             [
              0,
              "#0d0887"
             ],
             [
              0.1111111111111111,
              "#46039f"
             ],
             [
              0.2222222222222222,
              "#7201a8"
             ],
             [
              0.3333333333333333,
              "#9c179e"
             ],
             [
              0.4444444444444444,
              "#bd3786"
             ],
             [
              0.5555555555555556,
              "#d8576b"
             ],
             [
              0.6666666666666666,
              "#ed7953"
             ],
             [
              0.7777777777777778,
              "#fb9f3a"
             ],
             [
              0.8888888888888888,
              "#fdca26"
             ],
             [
              1,
              "#f0f921"
             ]
            ],
            "type": "heatmap"
           }
          ],
          "heatmapgl": [
           {
            "colorbar": {
             "outlinewidth": 0,
             "ticks": ""
            },
            "colorscale": [
             [
              0,
              "#0d0887"
             ],
             [
              0.1111111111111111,
              "#46039f"
             ],
             [
              0.2222222222222222,
              "#7201a8"
             ],
             [
              0.3333333333333333,
              "#9c179e"
             ],
             [
              0.4444444444444444,
              "#bd3786"
             ],
             [
              0.5555555555555556,
              "#d8576b"
             ],
             [
              0.6666666666666666,
              "#ed7953"
             ],
             [
              0.7777777777777778,
              "#fb9f3a"
             ],
             [
              0.8888888888888888,
              "#fdca26"
             ],
             [
              1,
              "#f0f921"
             ]
            ],
            "type": "heatmapgl"
           }
          ],
          "histogram": [
           {
            "marker": {
             "pattern": {
              "fillmode": "overlay",
              "size": 10,
              "solidity": 0.2
             }
            },
            "type": "histogram"
           }
          ],
          "histogram2d": [
           {
            "colorbar": {
             "outlinewidth": 0,
             "ticks": ""
            },
            "colorscale": [
             [
              0,
              "#0d0887"
             ],
             [
              0.1111111111111111,
              "#46039f"
             ],
             [
              0.2222222222222222,
              "#7201a8"
             ],
             [
              0.3333333333333333,
              "#9c179e"
             ],
             [
              0.4444444444444444,
              "#bd3786"
             ],
             [
              0.5555555555555556,
              "#d8576b"
             ],
             [
              0.6666666666666666,
              "#ed7953"
             ],
             [
              0.7777777777777778,
              "#fb9f3a"
             ],
             [
              0.8888888888888888,
              "#fdca26"
             ],
             [
              1,
              "#f0f921"
             ]
            ],
            "type": "histogram2d"
           }
          ],
          "histogram2dcontour": [
           {
            "colorbar": {
             "outlinewidth": 0,
             "ticks": ""
            },
            "colorscale": [
             [
              0,
              "#0d0887"
             ],
             [
              0.1111111111111111,
              "#46039f"
             ],
             [
              0.2222222222222222,
              "#7201a8"
             ],
             [
              0.3333333333333333,
              "#9c179e"
             ],
             [
              0.4444444444444444,
              "#bd3786"
             ],
             [
              0.5555555555555556,
              "#d8576b"
             ],
             [
              0.6666666666666666,
              "#ed7953"
             ],
             [
              0.7777777777777778,
              "#fb9f3a"
             ],
             [
              0.8888888888888888,
              "#fdca26"
             ],
             [
              1,
              "#f0f921"
             ]
            ],
            "type": "histogram2dcontour"
           }
          ],
          "mesh3d": [
           {
            "colorbar": {
             "outlinewidth": 0,
             "ticks": ""
            },
            "type": "mesh3d"
           }
          ],
          "parcoords": [
           {
            "line": {
             "colorbar": {
              "outlinewidth": 0,
              "ticks": ""
             }
            },
            "type": "parcoords"
           }
          ],
          "pie": [
           {
            "automargin": true,
            "type": "pie"
           }
          ],
          "scatter": [
           {
            "fillpattern": {
             "fillmode": "overlay",
             "size": 10,
             "solidity": 0.2
            },
            "type": "scatter"
           }
          ],
          "scatter3d": [
           {
            "line": {
             "colorbar": {
              "outlinewidth": 0,
              "ticks": ""
             }
            },
            "marker": {
             "colorbar": {
              "outlinewidth": 0,
              "ticks": ""
             }
            },
            "type": "scatter3d"
           }
          ],
          "scattercarpet": [
           {
            "marker": {
             "colorbar": {
              "outlinewidth": 0,
              "ticks": ""
             }
            },
            "type": "scattercarpet"
           }
          ],
          "scattergeo": [
           {
            "marker": {
             "colorbar": {
              "outlinewidth": 0,
              "ticks": ""
             }
            },
            "type": "scattergeo"
           }
          ],
          "scattergl": [
           {
            "marker": {
             "colorbar": {
              "outlinewidth": 0,
              "ticks": ""
             }
            },
            "type": "scattergl"
           }
          ],
          "scattermapbox": [
           {
            "marker": {
             "colorbar": {
              "outlinewidth": 0,
              "ticks": ""
             }
            },
            "type": "scattermapbox"
           }
          ],
          "scatterpolar": [
           {
            "marker": {
             "colorbar": {
              "outlinewidth": 0,
              "ticks": ""
             }
            },
            "type": "scatterpolar"
           }
          ],
          "scatterpolargl": [
           {
            "marker": {
             "colorbar": {
              "outlinewidth": 0,
              "ticks": ""
             }
            },
            "type": "scatterpolargl"
           }
          ],
          "scatterternary": [
           {
            "marker": {
             "colorbar": {
              "outlinewidth": 0,
              "ticks": ""
             }
            },
            "type": "scatterternary"
           }
          ],
          "surface": [
           {
            "colorbar": {
             "outlinewidth": 0,
             "ticks": ""
            },
            "colorscale": [
             [
              0,
              "#0d0887"
             ],
             [
              0.1111111111111111,
              "#46039f"
             ],
             [
              0.2222222222222222,
              "#7201a8"
             ],
             [
              0.3333333333333333,
              "#9c179e"
             ],
             [
              0.4444444444444444,
              "#bd3786"
             ],
             [
              0.5555555555555556,
              "#d8576b"
             ],
             [
              0.6666666666666666,
              "#ed7953"
             ],
             [
              0.7777777777777778,
              "#fb9f3a"
             ],
             [
              0.8888888888888888,
              "#fdca26"
             ],
             [
              1,
              "#f0f921"
             ]
            ],
            "type": "surface"
           }
          ],
          "table": [
           {
            "cells": {
             "fill": {
              "color": "#EBF0F8"
             },
             "line": {
              "color": "white"
             }
            },
            "header": {
             "fill": {
              "color": "#C8D4E3"
             },
             "line": {
              "color": "white"
             }
            },
            "type": "table"
           }
          ]
         },
         "layout": {
          "annotationdefaults": {
           "arrowcolor": "#2a3f5f",
           "arrowhead": 0,
           "arrowwidth": 1
          },
          "autotypenumbers": "strict",
          "coloraxis": {
           "colorbar": {
            "outlinewidth": 0,
            "ticks": ""
           }
          },
          "colorscale": {
           "diverging": [
            [
             0,
             "#8e0152"
            ],
            [
             0.1,
             "#c51b7d"
            ],
            [
             0.2,
             "#de77ae"
            ],
            [
             0.3,
             "#f1b6da"
            ],
            [
             0.4,
             "#fde0ef"
            ],
            [
             0.5,
             "#f7f7f7"
            ],
            [
             0.6,
             "#e6f5d0"
            ],
            [
             0.7,
             "#b8e186"
            ],
            [
             0.8,
             "#7fbc41"
            ],
            [
             0.9,
             "#4d9221"
            ],
            [
             1,
             "#276419"
            ]
           ],
           "sequential": [
            [
             0,
             "#0d0887"
            ],
            [
             0.1111111111111111,
             "#46039f"
            ],
            [
             0.2222222222222222,
             "#7201a8"
            ],
            [
             0.3333333333333333,
             "#9c179e"
            ],
            [
             0.4444444444444444,
             "#bd3786"
            ],
            [
             0.5555555555555556,
             "#d8576b"
            ],
            [
             0.6666666666666666,
             "#ed7953"
            ],
            [
             0.7777777777777778,
             "#fb9f3a"
            ],
            [
             0.8888888888888888,
             "#fdca26"
            ],
            [
             1,
             "#f0f921"
            ]
           ],
           "sequentialminus": [
            [
             0,
             "#0d0887"
            ],
            [
             0.1111111111111111,
             "#46039f"
            ],
            [
             0.2222222222222222,
             "#7201a8"
            ],
            [
             0.3333333333333333,
             "#9c179e"
            ],
            [
             0.4444444444444444,
             "#bd3786"
            ],
            [
             0.5555555555555556,
             "#d8576b"
            ],
            [
             0.6666666666666666,
             "#ed7953"
            ],
            [
             0.7777777777777778,
             "#fb9f3a"
            ],
            [
             0.8888888888888888,
             "#fdca26"
            ],
            [
             1,
             "#f0f921"
            ]
           ]
          },
          "colorway": [
           "#636efa",
           "#EF553B",
           "#00cc96",
           "#ab63fa",
           "#FFA15A",
           "#19d3f3",
           "#FF6692",
           "#B6E880",
           "#FF97FF",
           "#FECB52"
          ],
          "font": {
           "color": "#2a3f5f"
          },
          "geo": {
           "bgcolor": "white",
           "lakecolor": "white",
           "landcolor": "#E5ECF6",
           "showlakes": true,
           "showland": true,
           "subunitcolor": "white"
          },
          "hoverlabel": {
           "align": "left"
          },
          "hovermode": "closest",
          "mapbox": {
           "style": "light"
          },
          "paper_bgcolor": "white",
          "plot_bgcolor": "#E5ECF6",
          "polar": {
           "angularaxis": {
            "gridcolor": "white",
            "linecolor": "white",
            "ticks": ""
           },
           "bgcolor": "#E5ECF6",
           "radialaxis": {
            "gridcolor": "white",
            "linecolor": "white",
            "ticks": ""
           }
          },
          "scene": {
           "xaxis": {
            "backgroundcolor": "#E5ECF6",
            "gridcolor": "white",
            "gridwidth": 2,
            "linecolor": "white",
            "showbackground": true,
            "ticks": "",
            "zerolinecolor": "white"
           },
           "yaxis": {
            "backgroundcolor": "#E5ECF6",
            "gridcolor": "white",
            "gridwidth": 2,
            "linecolor": "white",
            "showbackground": true,
            "ticks": "",
            "zerolinecolor": "white"
           },
           "zaxis": {
            "backgroundcolor": "#E5ECF6",
            "gridcolor": "white",
            "gridwidth": 2,
            "linecolor": "white",
            "showbackground": true,
            "ticks": "",
            "zerolinecolor": "white"
           }
          },
          "shapedefaults": {
           "line": {
            "color": "#2a3f5f"
           }
          },
          "ternary": {
           "aaxis": {
            "gridcolor": "white",
            "linecolor": "white",
            "ticks": ""
           },
           "baxis": {
            "gridcolor": "white",
            "linecolor": "white",
            "ticks": ""
           },
           "bgcolor": "#E5ECF6",
           "caxis": {
            "gridcolor": "white",
            "linecolor": "white",
            "ticks": ""
           }
          },
          "title": {
           "x": 0.05
          },
          "xaxis": {
           "automargin": true,
           "gridcolor": "white",
           "linecolor": "white",
           "ticks": "",
           "title": {
            "standoff": 15
           },
           "zerolinecolor": "white",
           "zerolinewidth": 2
          },
          "yaxis": {
           "automargin": true,
           "gridcolor": "white",
           "linecolor": "white",
           "ticks": "",
           "title": {
            "standoff": 15
           },
           "zerolinecolor": "white",
           "zerolinewidth": 2
          }
         }
        },
        "title": {
         "text": "Number of unique apps per user"
        },
        "xaxis": {
         "anchor": "y",
         "domain": [
          0,
          1
         ],
         "title": {
          "text": "x"
         }
        },
        "yaxis": {
         "anchor": "x",
         "domain": [
          0,
          1
         ],
         "title": {
          "text": "count"
         }
        }
       }
      }
     },
     "metadata": {},
     "output_type": "display_data"
    }
   ],
   "source": [
    "px.histogram(x=[len(uuid['unique_apps']) for uuid in user_summary.values()], title=\"Number of unique apps per user\")"
   ]
  },
  {
   "cell_type": "code",
   "execution_count": 4,
   "id": "86e361d4-8562-43f2-8f60-e3d5e291d57d",
   "metadata": {},
   "outputs": [],
   "source": [
    "sorted_users_by_event = {k:v for k,v in sorted(user_summary.items(), key=lambda item: item[1]['event_count'], reverse=True)}"
   ]
  },
  {
   "cell_type": "code",
   "execution_count": 65,
   "id": "a803e989-5534-4f31-a5b5-3a7699e7d5ce",
   "metadata": {},
   "outputs": [],
   "source": [
    "data = get_user_data(list(sorted_users_by_event.keys())[1], output_dir)"
   ]
  },
  {
   "cell_type": "code",
   "execution_count": 66,
   "id": "e8457a14-d6b0-4740-98cf-32a2d0465d9f",
   "metadata": {},
   "outputs": [
    {
     "name": "stderr",
     "output_type": "stream",
     "text": [
      "100%|██████████| 287988/287988 [00:02<00:00, 134684.44it/s]\n"
     ]
    }
   ],
   "source": [
    "X, y = get_X_y(data, 50)"
   ]
  },
  {
   "cell_type": "code",
   "execution_count": 7,
   "id": "bead9f08",
   "metadata": {},
   "outputs": [
    {
     "name": "stderr",
     "output_type": "stream",
     "text": [
      "100%|██████████| 290447/290447 [00:14<00:00, 20579.99it/s]"
     ]
    },
    {
     "name": "stdout",
     "output_type": "stream",
     "text": [
      "78068\n",
      "212378\n",
      "0.26878569928420676\n",
      "290447\n"
     ]
    },
    {
     "name": "stderr",
     "output_type": "stream",
     "text": [
      "\n"
     ]
    }
   ],
   "source": [
    "numSame = 0\n",
    "numDiff = 0\n",
    "\n",
    "num = 0\n",
    "\n",
    "prev = None\n",
    "for i in tqdm(range(y.shape[0])):\n",
    "    ele = list(y.iloc[i])\n",
    "    if prev == None:\n",
    "        prev = list(ele)\n",
    "    else:\n",
    "        if prev == list(ele):\n",
    "            numSame += 1\n",
    "        else:\n",
    "            numDiff += 1\n",
    "    num += 1\n",
    "\n",
    "print(numSame)\n",
    "print(numDiff)\n",
    "print(numSame / num)\n",
    "print(num)"
   ]
  },
  {
   "cell_type": "code",
   "execution_count": 67,
   "id": "c29bc937",
   "metadata": {},
   "outputs": [
    {
     "name": "stderr",
     "output_type": "stream",
     "text": [
      "100%|██████████| 287987/287987 [00:14<00:00, 20149.20it/s]\n"
     ]
    }
   ],
   "source": [
    "prev = None\n",
    "to_drop = []\n",
    "for i in tqdm(range(y.shape[0])):\n",
    "    ele = list(y.iloc[i])\n",
    "    if prev == None:\n",
    "        prev = list(ele)\n",
    "    else:\n",
    "        if prev == list(ele):\n",
    "            to_drop.append(i)\n",
    "\n",
    "dataframe_drop = []\n",
    "x_df_drop = []\n",
    "for i in to_drop:\n",
    "    dataframe_drop.append(y.index[i])\n",
    "    x_df_drop.append(X.index[i-1])\n",
    "\n",
    "nodup_y = y.drop(dataframe_drop).reset_index().drop(['index'], axis=1)\n",
    "nodup_x = X.drop(x_df_drop).reset_index().drop(['index'], axis=1)"
   ]
  },
  {
   "cell_type": "code",
   "execution_count": 68,
   "id": "b7002526",
   "metadata": {},
   "outputs": [],
   "source": [
    "y_new = nodup_y - nodup_x.iloc[:,3:]"
   ]
  },
  {
   "cell_type": "code",
   "execution_count": 69,
   "id": "7eb61ee9",
   "metadata": {},
   "outputs": [],
   "source": [
    "y_new_nozero = y_new.loc[~(y_new==0).all(axis=1)]\n",
    "X_nozero = nodup_x.loc[~(y_new==0).all(axis=1)]"
   ]
  },
  {
   "cell_type": "code",
   "execution_count": 70,
   "id": "7a81813e",
   "metadata": {},
   "outputs": [
    {
     "data": {
      "text/plain": [
       "com.google.android.youtube                           2\n",
       "com.sec.android.app.launcher                         2\n",
       "com.android.chrome                                   2\n",
       "android                                              1\n",
       "com.nam.fbwrapper                                    0\n",
       "com.android.systemui                                -1\n",
       "com.android.vending                                  0\n",
       "com.google.android.googlequicksearchbox              2\n",
       "com.google.android.gm                                0\n",
       "org.wikipedia                                        0\n",
       "com.android.settings                                 0\n",
       "com.whatsapp                                         1\n",
       "com.google.android.apps.maps                         0\n",
       "com.google.android.gms                               1\n",
       "com.google.android.apps.docs                         0\n",
       "com.google.android.apps.genie.geniewidget            0\n",
       "com.ea.game.simpsons4_row                            6\n",
       "com.sec.android.gallery3d                           -1\n",
       "com.samsung.android.app.galaxyfinder                 0\n",
       "com.google.android.apps.paidtasks                    0\n",
       "com.android.packageinstaller                         0\n",
       "com.kongregate.mobile.adventurecapitalist.google     0\n",
       "com.alensw.PicFolder                                 0\n",
       "com.sec.android.daynote                              0\n",
       "de.schildbach.oeffi                                  0\n",
       "de.amazon.mShop.android                              0\n",
       "com.google.android.music                             1\n",
       "edu.berkeley.cs.amplab.carat.android               -15\n",
       "de.lineas.lit.ntv.android                            0\n",
       "com.zdf.android.mediathek                            0\n",
       "com.antivirus.tablet                                 0\n",
       "com.advancedprocessmanager                           0\n",
       "com.google.earth                                     0\n",
       "com.nintendo.zara                                    0\n",
       "com.sec.android.widgetapp.at.hero.accuweather        0\n",
       "com.peel.app                                         0\n",
       "org.leo.android.dict                                 0\n",
       "com.sec.android.app.clockpackage                     0\n",
       "mobi.mgeek.TunnyBrowser                              1\n",
       "com.google.android.apps.chromecast.app               0\n",
       "de.swr.avp.ard                                       0\n",
       "com.daysofwonder.tt.android                          0\n",
       "com.android.calendar                                 1\n",
       "com.mapswithme.maps.pro                              0\n",
       "de.avm.android.myfritz2                              0\n",
       "net.skyscanner.android.main                          0\n",
       "com.sec.knox.seandroid                              -1\n",
       "com.samsung.android.writingbuddyservice             -1\n",
       "com.sec.android.provider.logsprovider               -1\n",
       "com.sec.knox.eventsmanager                          -1\n",
       "dtype: int64"
      ]
     },
     "execution_count": 70,
     "metadata": {},
     "output_type": "execute_result"
    }
   ],
   "source": [
    "y_new_nozero.sum(axis=0)"
   ]
  },
  {
   "cell_type": "code",
   "execution_count": 37,
   "id": "5fdce834",
   "metadata": {},
   "outputs": [],
   "source": [
    "y_new_nozero = y_new_nozero.drop(['com.android.phone', 'com.android.nfc', 'com.cyngn.keyguard', 'com.android.incallui', 'com.android.systemui', 'com.cyngn.maxxaudio'], axis=1)"
   ]
  },
  {
   "cell_type": "code",
   "execution_count": 41,
   "id": "26907c50",
   "metadata": {},
   "outputs": [],
   "source": [
    "X_nozero = X_nozero.drop(['com.android.phone', 'com.android.nfc', 'com.cyngn.keyguard', 'com.android.incallui', 'com.android.systemui', 'com.cyngn.maxxaudio'], axis=1)"
   ]
  },
  {
   "cell_type": "code",
   "execution_count": 71,
   "id": "c92552f3",
   "metadata": {},
   "outputs": [
    {
     "data": {
      "text/plain": [
       "com.google.android.youtube                         -205.0\n",
       "com.sec.android.app.launcher                       -260.0\n",
       "com.android.chrome                                 -518.0\n",
       "android                                            -115.0\n",
       "com.nam.fbwrapper                                  -146.0\n",
       "com.android.systemui                               -116.0\n",
       "com.android.vending                                -260.0\n",
       "com.google.android.googlequicksearchbox            -106.0\n",
       "com.google.android.gm                               -99.0\n",
       "org.wikipedia                                      -140.0\n",
       "com.android.settings                               -117.0\n",
       "com.whatsapp                                        -68.0\n",
       "com.google.android.apps.maps                        -63.0\n",
       "com.google.android.gms                              -93.0\n",
       "com.google.android.apps.docs                        -36.0\n",
       "com.google.android.apps.genie.geniewidget           -33.0\n",
       "com.ea.game.simpsons4_row                          -236.0\n",
       "com.sec.android.gallery3d                           -32.0\n",
       "com.samsung.android.app.galaxyfinder                -32.0\n",
       "com.google.android.apps.paidtasks                   -40.0\n",
       "com.android.packageinstaller                        -51.0\n",
       "com.kongregate.mobile.adventurecapitalist.google     -8.0\n",
       "com.alensw.PicFolder                                -19.0\n",
       "com.sec.android.daynote                             -35.0\n",
       "de.schildbach.oeffi                                 -22.0\n",
       "de.amazon.mShop.android                             -79.0\n",
       "com.google.android.music                            -19.0\n",
       "edu.berkeley.cs.amplab.carat.android               -166.0\n",
       "de.lineas.lit.ntv.android                           -20.0\n",
       "com.zdf.android.mediathek                           -28.0\n",
       "com.antivirus.tablet                                -11.0\n",
       "com.advancedprocessmanager                          -31.0\n",
       "com.google.earth                                    -13.0\n",
       "com.nintendo.zara                                   -10.0\n",
       "com.sec.android.widgetapp.at.hero.accuweather       -19.0\n",
       "com.peel.app                                        -19.0\n",
       "org.leo.android.dict                                 -9.0\n",
       "com.sec.android.app.clockpackage                    -47.0\n",
       "mobi.mgeek.TunnyBrowser                            -131.0\n",
       "com.google.android.apps.chromecast.app               -8.0\n",
       "de.swr.avp.ard                                       -7.0\n",
       "com.daysofwonder.tt.android                         -12.0\n",
       "com.android.calendar                                -17.0\n",
       "com.mapswithme.maps.pro                             -38.0\n",
       "de.avm.android.myfritz2                              -4.0\n",
       "net.skyscanner.android.main                         -12.0\n",
       "com.sec.knox.seandroid                               -1.0\n",
       "com.samsung.android.writingbuddyservice              -1.0\n",
       "com.sec.android.provider.logsprovider                -1.0\n",
       "com.sec.knox.eventsmanager                           -1.0\n",
       "dtype: float64"
      ]
     },
     "execution_count": 71,
     "metadata": {},
     "output_type": "execute_result"
    }
   ],
   "source": [
    "y_new_nozero[y_new_nozero < 0].sum(axis=0)"
   ]
  },
  {
   "cell_type": "code",
   "execution_count": 52,
   "id": "d0ef35db-8d54-4a90-b2bf-a3f7867d0b09",
   "metadata": {},
   "outputs": [
    {
     "data": {
      "text/plain": [
       "(212478, 103)"
      ]
     },
     "execution_count": 52,
     "metadata": {},
     "output_type": "execute_result"
    }
   ],
   "source": [
    "X.shape\n",
    "nodup_x.shape"
   ]
  },
  {
   "cell_type": "code",
   "execution_count": 15,
   "id": "51d41902-3d34-4b7e-81a4-80a48f238edb",
   "metadata": {},
   "outputs": [
    {
     "data": {
      "text/plain": [
       "(290447, 100)"
      ]
     },
     "execution_count": 15,
     "metadata": {},
     "output_type": "execute_result"
    }
   ],
   "source": [
    "y.shape"
   ]
  },
  {
   "cell_type": "code",
   "execution_count": 30,
   "id": "4d34c07a",
   "metadata": {},
   "outputs": [],
   "source": [
    "X = nodup_x\n",
    "y = nodup_y"
   ]
  },
  {
   "cell_type": "code",
   "execution_count": 87,
   "id": "b5db24c7",
   "metadata": {},
   "outputs": [
    {
     "data": {
      "text/plain": [
       "(4114, 53)"
      ]
     },
     "execution_count": 87,
     "metadata": {},
     "output_type": "execute_result"
    }
   ],
   "source": [
    "X_nozero.shape"
   ]
  },
  {
   "cell_type": "markdown",
   "id": "39616ea7",
   "metadata": {},
   "source": [
    "Neural Network"
   ]
  },
  {
   "cell_type": "code",
   "execution_count": 72,
   "id": "fe748768",
   "metadata": {},
   "outputs": [],
   "source": [
    "from sklearn.neural_network import MLPRegressor\n"
   ]
  },
  {
   "cell_type": "code",
   "execution_count": 108,
   "id": "0beceb8b",
   "metadata": {},
   "outputs": [
    {
     "data": {
      "text/plain": [
       "MLPRegressor(alpha=0.0005)"
      ]
     },
     "execution_count": 108,
     "metadata": {},
     "output_type": "execute_result"
    }
   ],
   "source": [
    "X_train, X_test, y_train, y_test = train_test_split(X_nozero.iloc[:1000], y_new_nozero.iloc[:1000], test_size=.1, shuffle=False, random_state=42)\n",
    "\n",
    "\n",
    "mlp = MLPRegressor(alpha=.0005)\n",
    "mlp.fit(X_train.values, y_train.values)\n"
   ]
  },
  {
   "cell_type": "code",
   "execution_count": 109,
   "id": "2448aac5",
   "metadata": {},
   "outputs": [],
   "source": [
    "preds = mlp.predict(X_test.values).round()\n"
   ]
  },
  {
   "cell_type": "code",
   "execution_count": 85,
   "id": "f4700975",
   "metadata": {},
   "outputs": [
    {
     "name": "stdout",
     "output_type": "stream",
     "text": [
      "[[ 0.  0.  0. ... -0.  0. -0.]\n",
      " [-0.  0.  0. ...  0.  0. -0.]\n",
      " [-0.  0.  0. ...  0.  0. -0.]\n",
      " ...\n",
      " [ 0.  0.  0. ... -0. -0. -0.]\n",
      " [ 0. -0.  1. ... -0.  0. -0.]\n",
      " [ 0.  0.  0. ... -0. -0. -0.]]\n"
     ]
    }
   ],
   "source": [
    "print(preds)"
   ]
  },
  {
   "cell_type": "markdown",
   "id": "7f5ca086-acb6-48f9-92fe-ba93c26973de",
   "metadata": {},
   "source": [
    "# Ridge Regression"
   ]
  },
  {
   "cell_type": "code",
   "execution_count": 64,
   "id": "a0ae1ebe-a278-4812-8b95-ada9a7d50e8f",
   "metadata": {},
   "outputs": [
    {
     "name": "stdout",
     "output_type": "stream",
     "text": [
      "Total train size : 16943\n",
      "Total test size : 1883\n"
     ]
    }
   ],
   "source": [
    "X_train, X_test, y_train, y_test = train_test_split(X_nozero, y_new_nozero, test_size=.1, shuffle=True, random_state=42)\n",
    "\n",
    "print(f\"Total train size : {len(X_train)}\")\n",
    "print(f\"Total test size : {len(X_test)}\")"
   ]
  },
  {
   "cell_type": "code",
   "execution_count": 61,
   "id": "43dc9a81",
   "metadata": {},
   "outputs": [
    {
     "data": {
      "text/html": [
       "<div>\n",
       "<style scoped>\n",
       "    .dataframe tbody tr th:only-of-type {\n",
       "        vertical-align: middle;\n",
       "    }\n",
       "\n",
       "    .dataframe tbody tr th {\n",
       "        vertical-align: top;\n",
       "    }\n",
       "\n",
       "    .dataframe thead th {\n",
       "        text-align: right;\n",
       "    }\n",
       "</style>\n",
       "<table border=\"1\" class=\"dataframe\">\n",
       "  <thead>\n",
       "    <tr style=\"text-align: right;\">\n",
       "      <th></th>\n",
       "      <th>system</th>\n",
       "      <th>com.cyanogenmod.trebuchet</th>\n",
       "      <th>com.android.chrome</th>\n",
       "      <th>com.google.android.gms.persistent</th>\n",
       "      <th>com.google.android.gm</th>\n",
       "      <th>com.android.deskclock</th>\n",
       "      <th>com.urbandroid.lux:background</th>\n",
       "      <th>com.google.android.apps.maps</th>\n",
       "      <th>com.google.android.talk</th>\n",
       "      <th>android.process.acore</th>\n",
       "      <th>...</th>\n",
       "      <th>com.google.android.apps.plus</th>\n",
       "      <th>com.android.dialer</th>\n",
       "      <th>com.google.android.gms</th>\n",
       "      <th>com.urbandroid.lux</th>\n",
       "      <th>com.ubercab</th>\n",
       "      <th>no.nrk.yr</th>\n",
       "      <th>com.cyngn.fota</th>\n",
       "      <th>com.google.android.music</th>\n",
       "      <th>com.google.earth</th>\n",
       "      <th>com.cyanogenmod.lockclock</th>\n",
       "    </tr>\n",
       "  </thead>\n",
       "  <tbody>\n",
       "    <tr>\n",
       "      <th>13074</th>\n",
       "      <td>0</td>\n",
       "      <td>0</td>\n",
       "      <td>0</td>\n",
       "      <td>0</td>\n",
       "      <td>-1</td>\n",
       "      <td>0</td>\n",
       "      <td>0</td>\n",
       "      <td>0</td>\n",
       "      <td>1</td>\n",
       "      <td>1</td>\n",
       "      <td>...</td>\n",
       "      <td>0</td>\n",
       "      <td>0</td>\n",
       "      <td>0</td>\n",
       "      <td>0</td>\n",
       "      <td>0</td>\n",
       "      <td>0</td>\n",
       "      <td>0</td>\n",
       "      <td>0</td>\n",
       "      <td>0</td>\n",
       "      <td>0</td>\n",
       "    </tr>\n",
       "    <tr>\n",
       "      <th>21299</th>\n",
       "      <td>0</td>\n",
       "      <td>0</td>\n",
       "      <td>-1</td>\n",
       "      <td>0</td>\n",
       "      <td>1</td>\n",
       "      <td>0</td>\n",
       "      <td>0</td>\n",
       "      <td>0</td>\n",
       "      <td>0</td>\n",
       "      <td>0</td>\n",
       "      <td>...</td>\n",
       "      <td>0</td>\n",
       "      <td>0</td>\n",
       "      <td>0</td>\n",
       "      <td>0</td>\n",
       "      <td>0</td>\n",
       "      <td>0</td>\n",
       "      <td>0</td>\n",
       "      <td>0</td>\n",
       "      <td>0</td>\n",
       "      <td>0</td>\n",
       "    </tr>\n",
       "    <tr>\n",
       "      <th>1470</th>\n",
       "      <td>0</td>\n",
       "      <td>-1</td>\n",
       "      <td>1</td>\n",
       "      <td>0</td>\n",
       "      <td>0</td>\n",
       "      <td>0</td>\n",
       "      <td>0</td>\n",
       "      <td>0</td>\n",
       "      <td>0</td>\n",
       "      <td>0</td>\n",
       "      <td>...</td>\n",
       "      <td>0</td>\n",
       "      <td>0</td>\n",
       "      <td>0</td>\n",
       "      <td>0</td>\n",
       "      <td>0</td>\n",
       "      <td>0</td>\n",
       "      <td>0</td>\n",
       "      <td>0</td>\n",
       "      <td>0</td>\n",
       "      <td>0</td>\n",
       "    </tr>\n",
       "    <tr>\n",
       "      <th>17813</th>\n",
       "      <td>0</td>\n",
       "      <td>0</td>\n",
       "      <td>0</td>\n",
       "      <td>0</td>\n",
       "      <td>0</td>\n",
       "      <td>0</td>\n",
       "      <td>0</td>\n",
       "      <td>0</td>\n",
       "      <td>0</td>\n",
       "      <td>0</td>\n",
       "      <td>...</td>\n",
       "      <td>0</td>\n",
       "      <td>0</td>\n",
       "      <td>0</td>\n",
       "      <td>0</td>\n",
       "      <td>0</td>\n",
       "      <td>0</td>\n",
       "      <td>0</td>\n",
       "      <td>0</td>\n",
       "      <td>0</td>\n",
       "      <td>0</td>\n",
       "    </tr>\n",
       "    <tr>\n",
       "      <th>21992</th>\n",
       "      <td>0</td>\n",
       "      <td>0</td>\n",
       "      <td>0</td>\n",
       "      <td>0</td>\n",
       "      <td>1</td>\n",
       "      <td>-1</td>\n",
       "      <td>0</td>\n",
       "      <td>0</td>\n",
       "      <td>0</td>\n",
       "      <td>0</td>\n",
       "      <td>...</td>\n",
       "      <td>0</td>\n",
       "      <td>0</td>\n",
       "      <td>0</td>\n",
       "      <td>0</td>\n",
       "      <td>0</td>\n",
       "      <td>0</td>\n",
       "      <td>0</td>\n",
       "      <td>0</td>\n",
       "      <td>0</td>\n",
       "      <td>0</td>\n",
       "    </tr>\n",
       "    <tr>\n",
       "      <th>...</th>\n",
       "      <td>...</td>\n",
       "      <td>...</td>\n",
       "      <td>...</td>\n",
       "      <td>...</td>\n",
       "      <td>...</td>\n",
       "      <td>...</td>\n",
       "      <td>...</td>\n",
       "      <td>...</td>\n",
       "      <td>...</td>\n",
       "      <td>...</td>\n",
       "      <td>...</td>\n",
       "      <td>...</td>\n",
       "      <td>...</td>\n",
       "      <td>...</td>\n",
       "      <td>...</td>\n",
       "      <td>...</td>\n",
       "      <td>...</td>\n",
       "      <td>...</td>\n",
       "      <td>...</td>\n",
       "      <td>...</td>\n",
       "      <td>...</td>\n",
       "    </tr>\n",
       "    <tr>\n",
       "      <th>128228</th>\n",
       "      <td>0</td>\n",
       "      <td>0</td>\n",
       "      <td>0</td>\n",
       "      <td>0</td>\n",
       "      <td>0</td>\n",
       "      <td>0</td>\n",
       "      <td>0</td>\n",
       "      <td>0</td>\n",
       "      <td>0</td>\n",
       "      <td>0</td>\n",
       "      <td>...</td>\n",
       "      <td>0</td>\n",
       "      <td>0</td>\n",
       "      <td>0</td>\n",
       "      <td>0</td>\n",
       "      <td>0</td>\n",
       "      <td>0</td>\n",
       "      <td>0</td>\n",
       "      <td>0</td>\n",
       "      <td>0</td>\n",
       "      <td>0</td>\n",
       "    </tr>\n",
       "    <tr>\n",
       "      <th>48644</th>\n",
       "      <td>0</td>\n",
       "      <td>0</td>\n",
       "      <td>0</td>\n",
       "      <td>0</td>\n",
       "      <td>0</td>\n",
       "      <td>0</td>\n",
       "      <td>0</td>\n",
       "      <td>0</td>\n",
       "      <td>0</td>\n",
       "      <td>0</td>\n",
       "      <td>...</td>\n",
       "      <td>0</td>\n",
       "      <td>0</td>\n",
       "      <td>0</td>\n",
       "      <td>0</td>\n",
       "      <td>0</td>\n",
       "      <td>0</td>\n",
       "      <td>0</td>\n",
       "      <td>0</td>\n",
       "      <td>0</td>\n",
       "      <td>0</td>\n",
       "    </tr>\n",
       "    <tr>\n",
       "      <th>209651</th>\n",
       "      <td>0</td>\n",
       "      <td>0</td>\n",
       "      <td>0</td>\n",
       "      <td>0</td>\n",
       "      <td>0</td>\n",
       "      <td>0</td>\n",
       "      <td>0</td>\n",
       "      <td>1</td>\n",
       "      <td>0</td>\n",
       "      <td>0</td>\n",
       "      <td>...</td>\n",
       "      <td>0</td>\n",
       "      <td>0</td>\n",
       "      <td>0</td>\n",
       "      <td>0</td>\n",
       "      <td>0</td>\n",
       "      <td>0</td>\n",
       "      <td>0</td>\n",
       "      <td>0</td>\n",
       "      <td>0</td>\n",
       "      <td>0</td>\n",
       "    </tr>\n",
       "    <tr>\n",
       "      <th>42340</th>\n",
       "      <td>0</td>\n",
       "      <td>0</td>\n",
       "      <td>0</td>\n",
       "      <td>0</td>\n",
       "      <td>0</td>\n",
       "      <td>0</td>\n",
       "      <td>0</td>\n",
       "      <td>0</td>\n",
       "      <td>0</td>\n",
       "      <td>0</td>\n",
       "      <td>...</td>\n",
       "      <td>0</td>\n",
       "      <td>0</td>\n",
       "      <td>1</td>\n",
       "      <td>0</td>\n",
       "      <td>0</td>\n",
       "      <td>0</td>\n",
       "      <td>0</td>\n",
       "      <td>0</td>\n",
       "      <td>0</td>\n",
       "      <td>0</td>\n",
       "    </tr>\n",
       "    <tr>\n",
       "      <th>37556</th>\n",
       "      <td>0</td>\n",
       "      <td>-1</td>\n",
       "      <td>0</td>\n",
       "      <td>0</td>\n",
       "      <td>0</td>\n",
       "      <td>0</td>\n",
       "      <td>0</td>\n",
       "      <td>0</td>\n",
       "      <td>0</td>\n",
       "      <td>0</td>\n",
       "      <td>...</td>\n",
       "      <td>0</td>\n",
       "      <td>0</td>\n",
       "      <td>0</td>\n",
       "      <td>0</td>\n",
       "      <td>0</td>\n",
       "      <td>0</td>\n",
       "      <td>0</td>\n",
       "      <td>0</td>\n",
       "      <td>0</td>\n",
       "      <td>0</td>\n",
       "    </tr>\n",
       "  </tbody>\n",
       "</table>\n",
       "<p>1883 rows × 44 columns</p>\n",
       "</div>"
      ],
      "text/plain": [
       "        system  com.cyanogenmod.trebuchet  com.android.chrome  \\\n",
       "13074        0                          0                   0   \n",
       "21299        0                          0                  -1   \n",
       "1470         0                         -1                   1   \n",
       "17813        0                          0                   0   \n",
       "21992        0                          0                   0   \n",
       "...        ...                        ...                 ...   \n",
       "128228       0                          0                   0   \n",
       "48644        0                          0                   0   \n",
       "209651       0                          0                   0   \n",
       "42340        0                          0                   0   \n",
       "37556        0                         -1                   0   \n",
       "\n",
       "        com.google.android.gms.persistent  com.google.android.gm  \\\n",
       "13074                                   0                     -1   \n",
       "21299                                   0                      1   \n",
       "1470                                    0                      0   \n",
       "17813                                   0                      0   \n",
       "21992                                   0                      1   \n",
       "...                                   ...                    ...   \n",
       "128228                                  0                      0   \n",
       "48644                                   0                      0   \n",
       "209651                                  0                      0   \n",
       "42340                                   0                      0   \n",
       "37556                                   0                      0   \n",
       "\n",
       "        com.android.deskclock  com.urbandroid.lux:background  \\\n",
       "13074                       0                              0   \n",
       "21299                       0                              0   \n",
       "1470                        0                              0   \n",
       "17813                       0                              0   \n",
       "21992                      -1                              0   \n",
       "...                       ...                            ...   \n",
       "128228                      0                              0   \n",
       "48644                       0                              0   \n",
       "209651                      0                              0   \n",
       "42340                       0                              0   \n",
       "37556                       0                              0   \n",
       "\n",
       "        com.google.android.apps.maps  com.google.android.talk  \\\n",
       "13074                              0                        1   \n",
       "21299                              0                        0   \n",
       "1470                               0                        0   \n",
       "17813                              0                        0   \n",
       "21992                              0                        0   \n",
       "...                              ...                      ...   \n",
       "128228                             0                        0   \n",
       "48644                              0                        0   \n",
       "209651                             1                        0   \n",
       "42340                              0                        0   \n",
       "37556                              0                        0   \n",
       "\n",
       "        android.process.acore  ...  com.google.android.apps.plus  \\\n",
       "13074                       1  ...                             0   \n",
       "21299                       0  ...                             0   \n",
       "1470                        0  ...                             0   \n",
       "17813                       0  ...                             0   \n",
       "21992                       0  ...                             0   \n",
       "...                       ...  ...                           ...   \n",
       "128228                      0  ...                             0   \n",
       "48644                       0  ...                             0   \n",
       "209651                      0  ...                             0   \n",
       "42340                       0  ...                             0   \n",
       "37556                       0  ...                             0   \n",
       "\n",
       "        com.android.dialer  com.google.android.gms  com.urbandroid.lux  \\\n",
       "13074                    0                       0                   0   \n",
       "21299                    0                       0                   0   \n",
       "1470                     0                       0                   0   \n",
       "17813                    0                       0                   0   \n",
       "21992                    0                       0                   0   \n",
       "...                    ...                     ...                 ...   \n",
       "128228                   0                       0                   0   \n",
       "48644                    0                       0                   0   \n",
       "209651                   0                       0                   0   \n",
       "42340                    0                       1                   0   \n",
       "37556                    0                       0                   0   \n",
       "\n",
       "        com.ubercab  no.nrk.yr  com.cyngn.fota  com.google.android.music  \\\n",
       "13074             0          0               0                         0   \n",
       "21299             0          0               0                         0   \n",
       "1470              0          0               0                         0   \n",
       "17813             0          0               0                         0   \n",
       "21992             0          0               0                         0   \n",
       "...             ...        ...             ...                       ...   \n",
       "128228            0          0               0                         0   \n",
       "48644             0          0               0                         0   \n",
       "209651            0          0               0                         0   \n",
       "42340             0          0               0                         0   \n",
       "37556             0          0               0                         0   \n",
       "\n",
       "        com.google.earth  com.cyanogenmod.lockclock  \n",
       "13074                  0                          0  \n",
       "21299                  0                          0  \n",
       "1470                   0                          0  \n",
       "17813                  0                          0  \n",
       "21992                  0                          0  \n",
       "...                  ...                        ...  \n",
       "128228                 0                          0  \n",
       "48644                  0                          0  \n",
       "209651                 0                          0  \n",
       "42340                  0                          0  \n",
       "37556                  0                          0  \n",
       "\n",
       "[1883 rows x 44 columns]"
      ]
     },
     "execution_count": 61,
     "metadata": {},
     "output_type": "execute_result"
    }
   ],
   "source": [
    "y_test"
   ]
  },
  {
   "cell_type": "code",
   "execution_count": 111,
   "id": "af5fc969-f99d-4861-8e88-1d39469fa74b",
   "metadata": {},
   "outputs": [
    {
     "name": "stdout",
     "output_type": "stream",
     "text": [
      "(100, 50)\n",
      "(100, 50)\n"
     ]
    }
   ],
   "source": [
    "regr = MultiOutputRegressor(Ridge(random_state=123)).fit(X_train.values, y_train.values)\n",
    "# regr = MultiOutputRegressor(Ridge(random_state=123)).fit(X_train.values, y_train.values)\n",
    "\n",
    "# preds = pred_to_df(regr.predict(X_test.values).round(), y_test.columns)\n",
    "preds = regr.predict(X_test.values).round()\n",
    "print(preds.shape)\n",
    "print(y_test.shape)\n",
    "\n",
    "# print(f\"Accuracy is : {accuracy_score(preds, y_test.values)*100}%\")"
   ]
  },
  {
   "cell_type": "code",
   "execution_count": 112,
   "id": "e0fb652a",
   "metadata": {},
   "outputs": [],
   "source": [
    "preds = regr.predict(X_test.values).round()\n",
    "\n",
    "# print(f\"Accuracy is : {accuracy_score(preds, y_test.values)*100}%\")"
   ]
  },
  {
   "cell_type": "code",
   "execution_count": 81,
   "id": "5a2e322c",
   "metadata": {},
   "outputs": [
    {
     "data": {
      "text/plain": [
       "array([[ 0.,  0.,  0., ..., -0.,  0., -0.],\n",
       "       [-0.,  0.,  0., ...,  0.,  0., -0.],\n",
       "       [-0.,  0.,  0., ...,  0.,  0., -0.],\n",
       "       ...,\n",
       "       [ 0.,  0.,  0., ..., -0., -0., -0.],\n",
       "       [ 0., -0.,  1., ..., -0.,  0., -0.],\n",
       "       [ 0.,  0.,  0., ..., -0., -0., -0.]])"
      ]
     },
     "execution_count": 81,
     "metadata": {},
     "output_type": "execute_result"
    }
   ],
   "source": [
    "preds"
   ]
  },
  {
   "cell_type": "code",
   "execution_count": 113,
   "id": "007cac99",
   "metadata": {},
   "outputs": [
    {
     "name": "stdout",
     "output_type": "stream",
     "text": [
      "21\n",
      "79\n",
      "0.21\n"
     ]
    }
   ],
   "source": [
    "right = 0\n",
    "wrong = 0\n",
    "vals = y_test.values\n",
    "for i in range(len(preds)):\n",
    "    if list(preds[i]) == list(vals[i]):\n",
    "        right += 1\n",
    "    else:\n",
    "        wrong += 1\n",
    "\n",
    "print(right)\n",
    "print(wrong)\n",
    "\n",
    "print (right / float(right + wrong))"
   ]
  },
  {
   "cell_type": "code",
   "execution_count": 80,
   "id": "712e77cb",
   "metadata": {},
   "outputs": [
    {
     "name": "stdout",
     "output_type": "stream",
     "text": [
      "211\n",
      "439\n",
      "0.32461538461538464\n"
     ]
    }
   ],
   "source": [
    "right = 0\n",
    "wrong = 0\n",
    "vals = y_test.values\n",
    "for i in range(len(preds)):\n",
    "    for j in range(len(preds[i])):\n",
    "        if vals[i][j] != 0:\n",
    "            if preds[i][j] == vals[i][j]:\n",
    "                right += 1\n",
    "            else:\n",
    "                wrong += 1\n",
    "\n",
    "print(right)\n",
    "print(wrong)\n",
    "\n",
    "print (right / float(right + wrong))"
   ]
  },
  {
   "cell_type": "markdown",
   "id": "3522ca18",
   "metadata": {},
   "source": [
    "linear reg:\n",
    "3930\n",
    "4727\n",
    "608\n",
    "\n",
    "neural reg (80% test):\n",
    "5587\n",
    "37148\n",
    "1601\n",
    "\n",
    "neural reg (50% test):\n",
    "56888\n",
    "36132\n",
    "1058"
   ]
  },
  {
   "cell_type": "code",
   "execution_count": 63,
   "id": "816dec79",
   "metadata": {},
   "outputs": [
    {
     "name": "stderr",
     "output_type": "stream",
     "text": [
      "  1%|          | 1882/290446 [00:00<00:19, 14945.57it/s]\n"
     ]
    },
    {
     "ename": "IndexError",
     "evalue": "index 1883 is out of bounds for axis 0 with size 1883",
     "output_type": "error",
     "traceback": [
      "\u001b[0;31m---------------------------------------------------------------------------\u001b[0m",
      "\u001b[0;31mIndexError\u001b[0m                                Traceback (most recent call last)",
      "\u001b[1;32m/home/arjun/Desktop/OS-project/analysis.ipynb Cell 32'\u001b[0m in \u001b[0;36m<cell line: 5>\u001b[0;34m()\u001b[0m\n\u001b[1;32m      <a href='vscode-notebook-cell:/home/arjun/Desktop/OS-project/analysis.ipynb#ch0000025?line=4'>5</a>\u001b[0m \u001b[39mfor\u001b[39;00m i \u001b[39min\u001b[39;00m tqdm(\u001b[39mrange\u001b[39m(\u001b[39m1\u001b[39m, \u001b[39mlen\u001b[39m(y))):\n\u001b[1;32m      <a href='vscode-notebook-cell:/home/arjun/Desktop/OS-project/analysis.ipynb#ch0000025?line=5'>6</a>\u001b[0m     \u001b[39mfor\u001b[39;00m j \u001b[39min\u001b[39;00m \u001b[39mrange\u001b[39m(preds\u001b[39m.\u001b[39mshape[\u001b[39m1\u001b[39m]):\n\u001b[0;32m----> <a href='vscode-notebook-cell:/home/arjun/Desktop/OS-project/analysis.ipynb#ch0000025?line=6'>7</a>\u001b[0m         \u001b[39mif\u001b[39;00m preds[i][j] \u001b[39m==\u001b[39m \u001b[39m1\u001b[39m \u001b[39mand\u001b[39;00m y_val[i][j] \u001b[39m==\u001b[39m \u001b[39m0\u001b[39m:\n\u001b[1;32m      <a href='vscode-notebook-cell:/home/arjun/Desktop/OS-project/analysis.ipynb#ch0000025?line=7'>8</a>\u001b[0m             wrong_prefetch \u001b[39m+\u001b[39m\u001b[39m=\u001b[39m \u001b[39m1\u001b[39m\n\u001b[1;32m      <a href='vscode-notebook-cell:/home/arjun/Desktop/OS-project/analysis.ipynb#ch0000025?line=8'>9</a>\u001b[0m         \u001b[39melif\u001b[39;00m preds[i][j] \u001b[39m==\u001b[39m \u001b[39m0\u001b[39m \u001b[39mand\u001b[39;00m y_val[i][j] \u001b[39m==\u001b[39m \u001b[39m1\u001b[39m:\n",
      "\u001b[0;31mIndexError\u001b[0m: index 1883 is out of bounds for axis 0 with size 1883"
     ]
    }
   ],
   "source": [
    "wrong_prefetch = 0\n",
    "wrong_evict = 0\n",
    "num_right = 0\n",
    "y_val = y.values\n",
    "for i in tqdm(range(1, len(y))):\n",
    "    for j in range(preds.shape[1]):\n",
    "        if preds[i][j] == 1 and y_val[i][j] == 0:\n",
    "            wrong_prefetch += 1\n",
    "        elif preds[i][j] == 0 and y_val[i][j] == 1:\n",
    "            wrong_evict += 1\n",
    "        else:\n",
    "            if y_val[i-1][j] != y_val[i][j]:\n",
    "                num_right += 1\n",
    "                \n",
    "print(wrong_prefetch)\n",
    "print(wrong_evict)\n",
    "print(num_right)"
   ]
  },
  {
   "cell_type": "code",
   "execution_count": 53,
   "id": "b2a044cc-e0c6-4a38-8e4d-c6cbef9b8dd4",
   "metadata": {},
   "outputs": [],
   "source": [
    "def get_new_apps(prev, current):\n",
    "    return list(set(prev) - set(current))\n",
    "\n",
    "def get_closing_apps(prev, current):\n",
    "    return list(set(current) - set(prev))"
   ]
  },
  {
   "cell_type": "code",
   "execution_count": 30,
   "id": "47afe9c3-d88b-4465-b4d9-76b1d7e60e75",
   "metadata": {},
   "outputs": [],
   "source": [
    "new_apps = []\n",
    "closing_apps = []\n",
    "for (_, X_sample), (_, y_sample) in zip(X.iterrows(), y.iterrows()):\n",
    "    prev = list(X_sample[X_sample == 1][1:].keys())\n",
    "    current = list(y_sample[y_sample == 1][1:].keys())\n",
    "    new_apps.append(get_new_apps(prev, current))\n",
    "    closing_apps.append(get_closing_apps(prev, current))"
   ]
  },
  {
   "cell_type": "code",
   "execution_count": 33,
   "id": "ce16843b-d97b-4810-b914-027eaf31eace",
   "metadata": {},
   "outputs": [
    {
     "data": {
      "text/plain": [
       "[['com.android.incallui', 'edu.berkeley.cs.amplab.carat.android'],\n",
       " ['com.android.incallui'],\n",
       " ['com.cyanogenmod.trebuchet', 'com.android.incallui'],\n",
       " ['com.android.incallui'],\n",
       " ['com.android.incallui'],\n",
       " ['com.android.incallui'],\n",
       " ['com.android.incallui', 'android.process.acore', 'com.google.android.talk'],\n",
       " ['com.android.incallui'],\n",
       " ['com.android.incallui'],\n",
       " ['com.android.incallui']]"
      ]
     },
     "execution_count": 33,
     "metadata": {},
     "output_type": "execute_result"
    }
   ],
   "source": [
    "new_apps[:10]"
   ]
  },
  {
   "cell_type": "code",
   "execution_count": 34,
   "id": "8a6f4795-4c39-43a0-9734-360559e5adcf",
   "metadata": {},
   "outputs": [
    {
     "data": {
      "text/plain": [
       "[['com.cyanogenmod.trebuchet'],\n",
       " [],\n",
       " ['android.process.acore', 'com.google.android.talk'],\n",
       " [],\n",
       " [],\n",
       " [],\n",
       " ['com.google.android.gm'],\n",
       " [],\n",
       " [],\n",
       " []]"
      ]
     },
     "execution_count": 34,
     "metadata": {},
     "output_type": "execute_result"
    }
   ],
   "source": [
    "closing_apps[:10]"
   ]
  },
  {
   "cell_type": "code",
   "execution_count": null,
   "id": "e558e5de-0ac6-42ab-bbb0-f7f30af581f5",
   "metadata": {},
   "outputs": [],
   "source": []
  }
 ],
 "metadata": {
  "kernelspec": {
   "display_name": "Python 3 (ipykernel)",
   "language": "python",
   "name": "python3"
  },
  "language_info": {
   "codemirror_mode": {
    "name": "ipython",
    "version": 3
   },
   "file_extension": ".py",
   "mimetype": "text/x-python",
   "name": "python",
   "nbconvert_exporter": "python",
   "pygments_lexer": "ipython3",
   "version": "3.8.0"
  }
 },
 "nbformat": 4,
 "nbformat_minor": 5
}
